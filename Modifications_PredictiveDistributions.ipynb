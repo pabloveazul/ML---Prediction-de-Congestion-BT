{
 "cells": [
  {
   "cell_type": "code",
   "execution_count": 1,
   "metadata": {},
   "outputs": [
    {
     "name": "stdout",
     "output_type": "stream",
     "text": [
      "Python version 3.6.5 |Anaconda, Inc.| (default, Mar 29 2018, 13:32:41) [MSC v.1900 64 bit (AMD64)]\n",
      "Pandas version 0.23.0\n",
      "Matplotlib version 2.2.2\n"
     ]
    }
   ],
   "source": [
    "#Parallel Computing Functions:\n",
    "import multiprocessing  \n",
    "import random\n",
    "from multiprocessing import Pool\n",
    "import KSTEST\n",
    "import itertools\n",
    "def KSTestAllCellsPerDayAverageParallel(ZoneDataFrame,kpi):\n",
    "    if __name__ == '__main__':\n",
    "        from datetime import timedelta, date, datetime\n",
    "        pool = Pool()\n",
    "        t = time.time()\n",
    "        C = list(itertools.combinations(ZoneDataFrame['CellName'].unique(),2))\n",
    "        A = [(ZoneDataFrame, c[0],c[1],kpi) for c in C]\n",
    "        print(time.time()-t)\n",
    "        results = pool.starmap(KSTEST.KSTestPerDayAverageParallelFunc, A)\n",
    "        del A\n",
    "    return(results)\n",
    "\n",
    "def buildKSTESTMatrixFromMPTEST(result):\n",
    "    KS = pd.DataFrame()\n",
    "    for res in result:\n",
    "        cell1 = res.index.values[0]\n",
    "        cell2 = res.columns.values[0]\n",
    "        pvalue = res.loc[res.index.values[0]][res.columns.values[0]] \n",
    "        KS.at[str(cell1),str(cell2)] = pvalue\n",
    "        KS.at[str(cell2),str(cell1)] = pvalue\n",
    "    KS = KS.fillna(1)\n",
    "    return(KS)"
   ]
  },
  {
   "cell_type": "code",
   "execution_count": null,
   "metadata": {},
   "outputs": [],
   "source": [
    "for current_groupe in ['residentiel']:\n",
    "    # pour extraire les cellules du groupe residentiel\n",
    "    df_list_group.loc[df_list_group[0]==current_groupe][1]\n",
    "\n",
    "    # extraction des donnees du groupe residentiel\n",
    "    # df_list_group.loc[df_list_group[0]=='residentiel'][1]\n",
    "    ZoneCellsKpi = alldata_kpis.loc[alldata_kpis['CellName'].isin(df_list_group.loc[df_list_group[0]==current_groupe][1])]\n",
    "    for type_cell in list_type_cell:\n",
    "        ZoneCellTypeKpi = ZoneCellsKpi.loc[ZoneCellsKpi['CellName'].str.startswith(type_cell)]\n",
    "        fic_result= working_path + \"\\KSTest_\" + current_groupe +\"_\"+type_cell + \".xlsx\"\n",
    "        writer = pd.ExcelWriter(fic_result)\n",
    "        #matrivce P_value\n",
    "        #cas parallele computing\n",
    "        if computing_type == 'single':\n",
    "            for kpi in kpiList:\n",
    "                KpiPvalueMatrix = KSTestAllCellsPerDayAverage(ZoneCellTypeKpi,kpi)\n",
    "                KpiPvalueMatrix.to_excel(writer,sheet_name=kpi)\n",
    "            writer.save()\n",
    "        elif computing_type == 'parallel':\n",
    "            for kpi in kpiList:\n",
    "                results = KSTestAllCellsPerDayAverageParallel(ZoneCellTypeKpi,kpi)\n",
    "                KpiPvalueMatrix = buildKSTESTMatrixFromMPTEST(results)\n",
    "                KpiPvalueMatrix.to_excel(writer,sheet_name=kpi)\n",
    "            writer.save()\n",
    "       "
   ]
  }
 ],
 "metadata": {
  "kernelspec": {
   "display_name": "Python 3",
   "language": "python",
   "name": "python3"
  },
  "language_info": {
   "codemirror_mode": {
    "name": "ipython",
    "version": 3
   },
   "file_extension": ".py",
   "mimetype": "text/x-python",
   "name": "python",
   "nbconvert_exporter": "python",
   "pygments_lexer": "ipython3",
   "version": "3.6.5"
  }
 },
 "nbformat": 4,
 "nbformat_minor": 2
}
