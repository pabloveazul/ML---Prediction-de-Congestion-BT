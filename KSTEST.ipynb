{
 "cells": [
  {
   "cell_type": "code",
   "execution_count": 1,
   "metadata": {},
   "outputs": [],
   "source": [
    "# Import all libraries needed for the tutorial\n",
    "# General syntax to import specific functions in a library: \n",
    "##from (library) import (specific library function)\n",
    "from pandas import DataFrame, read_csv\n",
    "# General syntax to import a library but no functions: \n",
    "##import (library) as (give the library a nickname/alias)\n",
    "import matplotlib.pyplot as plt\n",
    "import pandas as pd #this is how I usually import pandas\n",
    "import sys #only needed to determine Python version number\n",
    "import matplotlib #only needed to determine Matplotlib version number\n",
    "import functools\n",
    "from spectrum import *\n",
    "from pylab import plot\n",
    "from scipy import signal\n",
    "import numpy as np\n",
    "import time\n",
    "from scipy import stats\n",
    "# Enable inline plotting"
   ]
  },
  {
   "cell_type": "code",
   "execution_count": 2,
   "metadata": {},
   "outputs": [
    {
     "name": "stdout",
     "output_type": "stream",
     "text": [
      "Python version 3.6.5 |Anaconda, Inc.| (default, Mar 29 2018, 13:32:41) [MSC v.1900 64 bit (AMD64)]\n",
      "Pandas version 0.23.0\n",
      "Matplotlib version 2.2.2\n"
     ]
    }
   ],
   "source": [
    "print('Python version ' + sys.version)\n",
    "print('Pandas version ' + pd.__version__)\n",
    "print('Matplotlib version ' + matplotlib.__version__)"
   ]
  },
  {
   "cell_type": "code",
   "execution_count": null,
   "metadata": {},
   "outputs": [],
   "source": [
    "from datetime import timedelta, date, datetime\n",
    "def KSTestPerDay(cell1,cell2,kpi,ZoneDataFrame):\n",
    "    cell1_kpi = ZoneDataFrame.loc[ZoneDataFrame['CellName']==cell1][['DAY_',kpi]]\n",
    "    cell1_kpi['DAY_'] = pd.to_datetime(cell1_kpi['DAY_'],infer_datetime_format=True)\n",
    "    \n",
    "    cell2_kpi = ZoneDataFrame.loc[ZoneDataFrame['CellName']==cell2][['DAY_',kpi]]\n",
    "    cell2_kpi['DAY_'] = pd.to_datetime(cell2_kpi['DAY_'],infer_datetime_format=True)\n",
    "    KS = pd.DataFrame()\n",
    "    for day in np.array([datetime(2018,8,7)+timedelta(days=i) for i in range(1,6)]):\n",
    "        dayvalue = pd.DataFrame()\n",
    "        dayvalue['Day'] = [day]\n",
    "        mask1 = (cell1_kpi['DAY_'] >=day) & (cell1_kpi['DAY_'] <day+timedelta(days=1))\n",
    "        mask2 = (cell2_kpi['DAY_'] >=day) & (cell2_kpi['DAY_'] <day+timedelta(days=1))\n",
    "\n",
    "        dayvalue['pvalue'] = [stats.ks_2samp(cell1_kpi.loc[mask1][kpi],cell2_kpi.loc[mask2][kpi])[1]]\n",
    "        KS = KS.append(dayvalue,ignore_index = True)\n",
    "    return(KS)"
   ]
  },
  {
   "cell_type": "code",
   "execution_count": null,
   "metadata": {},
   "outputs": [],
   "source": [
    "from datetime import timedelta, date, datetime\n",
    "def KSTestPerWeekDay(cell1,cell2,kpi,ZoneDataFrame):\n",
    "    cell1_kpi = ZoneDataFrame.loc[ZoneDataFrame['CellName']==cell1][['DAY_',kpi]]   \n",
    "    cell1_kpi['DAY_'] = pd.to_datetime(cell1_kpi['DAY_'],infer_datetime_format=True)\n",
    "    cell2_kpi = ZoneDataFrame.loc[ZoneDataFrame['CellName']==cell2][['DAY_',kpi]]\n",
    "    cell2_kpi['DAY_'] = pd.to_datetime(cell2_kpi['DAY_'],infer_datetime_format=True)\n",
    "  \n",
    "    KS = pd.DataFrame()\n",
    "    for day in range(0,7):\n",
    "        dayvalue = pd.DataFrame()\n",
    "        dayvalue['Day'] = [day]\n",
    "        mask1 = (cell1_kpi['DAY_'].dt.dayofweek==day)\n",
    "        mask2 = (cell2_kpi['DAY_'].dt.dayofweek==day)\n",
    "        dayvalue['pvalue'] = [stats.ks_2samp(cell1_kpi.loc[mask1][kpi],cell2_kpi.loc[mask2][kpi])[1]]\n",
    "        KS = KS.append(dayvalue,ignore_index = True)\n",
    "    return(KS)"
   ]
  },
  {
   "cell_type": "code",
   "execution_count": 16,
   "metadata": {},
   "outputs": [],
   "source": [
    "def KSTestPerDayAverageParallelFunc(ZoneDataFrame,cell1,cell2,kpi):\n",
    "    KS = pd.DataFrame()\n",
    "    if cell1 == cell2:\n",
    "        KS.at[str(cell1),str(cell2)] = float(1)\n",
    "    else:\n",
    "        avg = KSTestPerDay(cell1,cell2,kpi,ZoneDataFrame)['pvalue'].mean()\n",
    "        KS.at[cell1,cell2] = avg\n",
    "    return(KS)"
   ]
  },
  {
   "cell_type": "code",
   "execution_count": 15,
   "metadata": {},
   "outputs": [],
   "source": [
    "def KSTestPerWeekDayAverageParallelFunc(ZoneDataFrame,cell1,cell2,kpi):\n",
    "    KS = pd.DataFrame()\n",
    "    if cell1 == cell2:\n",
    "        KS.at[str(cell1),str(cell2)] = float(1)\n",
    "    else:\n",
    "        avg = KSTestPerWeekDay(cell1,cell2,kpi,ZoneDataFrame)['pvalue'].mean()\n",
    "        KS.at[cell1,cell2] = avg\n",
    "    return(KS)"
   ]
  },
  {
   "cell_type": "code",
   "execution_count": 12,
   "metadata": {},
   "outputs": [],
   "source": [
    "from datetime import timedelta, date, datetime\n",
    "def KSTestPerWeekDayParallelFunc(cell1,cell2,kpi,day, ZoneDataFrame):\n",
    "    cell1_kpi = ZoneDataFrame.loc[ZoneDataFrame['CellName']==cell1][['DAY_',kpi]]   \n",
    "    cell1_kpi['DAY_'] = pd.to_datetime(cell1_kpi['DAY_'],infer_datetime_format=True)\n",
    "    cell2_kpi = ZoneDataFrame.loc[ZoneDataFrame['CellName']==cell2][['DAY_',kpi]]\n",
    "    cell2_kpi['DAY_'] = pd.to_datetime(cell2_kpi['DAY_'],infer_datetime_format=True)\n",
    "  \n",
    "    KS = pd.DataFrame()\n",
    "    dayvalue = pd.DataFrame()\n",
    "    dayvalue['Day'] = [day]\n",
    "    mask1 = (cell1_kpi['DAY_'].dt.dayofweek==day)\n",
    "    mask2 = (cell2_kpi['DAY_'].dt.dayofweek==day)\n",
    "    dayvalue['pvalue'] = [stats.ks_2samp(cell1_kpi.loc[mask1][kpi],cell2_kpi.loc[mask2][kpi])[1]]\n",
    "    KS = KS.append(dayvalue,ignore_index = True)\n",
    "    return(KS)"
   ]
  },
  {
   "cell_type": "code",
   "execution_count": 14,
   "metadata": {},
   "outputs": [],
   "source": [
    "from datetime import timedelta, date, datetime\n",
    "def KSTestPerDayParallelFunc(cell1,cell2,kpi,day,ZoneDataFrame):\n",
    "    cell1_kpi = ZoneDataFrame.loc[ZoneDataFrame['CellName']==cell1][['DAY_',kpi]]\n",
    "    cell1_kpi['DAY_'] = pd.to_datetime(cell1_kpi['DAY_'],infer_datetime_format=True)\n",
    "    \n",
    "    cell2_kpi = ZoneDataFrame.loc[ZoneDataFrame['CellName']==cell2][['DAY_',kpi]]\n",
    "    cell2_kpi['DAY_'] = pd.to_datetime(cell2_kpi['DAY_'],infer_datetime_format=True)\n",
    "    KS = pd.DataFrame()\n",
    "    dayvalue = pd.DataFrame()\n",
    "    dayvalue['Day'] = [day]\n",
    "    mask1 = (cell1_kpi['DAY_'] >=day) & (cell1_kpi['DAY_'] <day+timedelta(days=1))\n",
    "    mask2 = (cell2_kpi['DAY_'] >=day) & (cell2_kpi['DAY_'] <day+timedelta(days=1))\n",
    "\n",
    "    dayvalue['pvalue'] = [stats.ks_2samp(cell1_kpi.loc[mask1][kpi],cell2_kpi.loc[mask2][kpi])[1]]\n",
    "    KS = KS.append(dayvalue,ignore_index = True)\n",
    "    return(KS)"
   ]
  },
  {
   "cell_type": "code",
   "execution_count": null,
   "metadata": {},
   "outputs": [],
   "source": []
  }
 ],
 "metadata": {
  "kernelspec": {
   "display_name": "Python 3",
   "language": "python",
   "name": "python3"
  },
  "language_info": {
   "codemirror_mode": {
    "name": "ipython",
    "version": 3
   },
   "file_extension": ".py",
   "mimetype": "text/x-python",
   "name": "python",
   "nbconvert_exporter": "python",
   "pygments_lexer": "ipython3",
   "version": "3.6.5"
  }
 },
 "nbformat": 4,
 "nbformat_minor": 2
}
