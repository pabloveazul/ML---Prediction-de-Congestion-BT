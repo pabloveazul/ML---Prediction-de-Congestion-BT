{
 "cells": [
  {
   "cell_type": "code",
   "execution_count": 1,
   "metadata": {},
   "outputs": [],
   "source": [
    "# Import all libraries needed for the tutorial\n",
    "\n",
    "# General syntax to import specific functions in a library: \n",
    "##from (library) import (specific library function)\n",
    "from pandas import DataFrame, read_csv\n",
    "# General syntax to import a library but no functions: \n",
    "##import (library) as (give the library a nickname/alias)\n",
    "import matplotlib.pyplot as plt\n",
    "import pandas as pd #this is how I usually import pandas\n",
    "import sys #only needed to determine Python version number\n",
    "import matplotlib #only needed to determine Matplotlib version number\n",
    "import functools\n",
    "from spectrum import *\n",
    "from pylab import plot\n",
    "from scipy import signal\n",
    "import numpy as np\n",
    "import time\n",
    "# Enable inline plotting"
   ]
  },
  {
   "cell_type": "code",
   "execution_count": 2,
   "metadata": {},
   "outputs": [
    {
     "name": "stdout",
     "output_type": "stream",
     "text": [
      "Python version 3.6.5 |Anaconda, Inc.| (default, Mar 29 2018, 13:32:41) [MSC v.1900 64 bit (AMD64)]\n",
      "Pandas version 0.23.0\n",
      "Matplotlib version 2.2.2\n"
     ]
    }
   ],
   "source": [
    "print('Python version ' + sys.version)\n",
    "print('Pandas version ' + pd.__version__)\n",
    "print('Matplotlib version ' + matplotlib.__version__)"
   ]
  },
  {
   "cell_type": "code",
   "execution_count": 3,
   "metadata": {},
   "outputs": [],
   "source": [
    "Location =  'C:/Users/euripab/Desktop/ML Extraction/Resultats All Cells - Zones G/Correlation Matrix Excel/allcellkpiFeaturesClean_CorrelationMatrix.xlsx'\n",
    "allcellkpiFeaturesClean_CorrelationMatrix = pd.read_excel(Location)"
   ]
  },
  {
   "cell_type": "code",
   "execution_count": 4,
   "metadata": {},
   "outputs": [],
   "source": [
    "Location =  'C:/Users/euripab/Desktop/ML Extraction/Resultats All Cells - Zones G/Correlation Matrix Excel/ChatLesHallesCellsKpiFeatures_CorrelationMatrix.xlsx'\n",
    "ChatLesHallesCellsKpiFeaturesClean_CorrelationMatrix = pd.read_excel(Location)"
   ]
  },
  {
   "cell_type": "code",
   "execution_count": 5,
   "metadata": {},
   "outputs": [],
   "source": [
    "Location =  'C:/Users/euripab/Desktop/ML Extraction/Resultats All Cells - Zones G/Correlation Matrix Excel/ConcordeCellsKpiFeatures_CorrelationMatrix.xlsx'\n",
    "ConcordeCellsKpiFeaturesClean_CorrelationMatrix = pd.read_excel(Location)"
   ]
  },
  {
   "cell_type": "code",
   "execution_count": 6,
   "metadata": {},
   "outputs": [],
   "source": [
    "Location =  'C:/Users/euripab/Desktop/ML Extraction/Resultats All Cells - Zones G/Correlation Matrix Excel/GareCellsKpiFeatures_CorrelationMatrix.xlsx'\n",
    "GareCellsKpiFeaturesClean_CorrelationMatrix = pd.read_excel(Location)"
   ]
  },
  {
   "cell_type": "code",
   "execution_count": 7,
   "metadata": {},
   "outputs": [],
   "source": [
    "Location =  'C:/Users/euripab/Desktop/ML Extraction/Resultats All Cells - Zones G/Correlation Matrix Excel/ResCellsKpiFeatures_CorrelationMatrix.xlsx'\n",
    "ResCellsKpiFeaturesClean_CorrelationMatrix = pd.read_excel(Location)"
   ]
  },
  {
   "cell_type": "code",
   "execution_count": 8,
   "metadata": {},
   "outputs": [],
   "source": [
    "Location =  'C:/Users/euripab/Desktop/ML Extraction/Resultats All Cells - Zones G/Correlation Matrix Excel/RiveDroiteCellsKpiFeatures_CorrelationMatrix.xlsx'\n",
    "RiveDroiteCellsKpiFeaturesClean_CorrelationMatrix = pd.read_excel(Location)"
   ]
  },
  {
   "cell_type": "code",
   "execution_count": 9,
   "metadata": {},
   "outputs": [],
   "source": [
    "def sytheseKpiCorrelation(corrMatrix):\n",
    "    kpiSynthese = pd.DataFrame()\n",
    "    column_kpiselection = [\"CQImoyen_Convert\",\"CROZON_DemandesVoix4G\",\n",
    "                    \"CROZON_NombredeConnexionsPS\",\"CROZON_SucceseRABData4G\",\"CROZON_TraficDataDL4G\",\"CROZON_SucceseRABPS4G\",\"CoupuresData\",\n",
    "                    \"CROZON_SucceseRABVoix4G\",\"CSFB_Tot\",\"CROZON_TDC4GData\",\"CROZON_TDC4GData_Mobilite\",\n",
    "                    \"CROZON_DemandesData4G\",\"CROZON_TDC4GDataCluster\",\"CROZON_TDC4GDataCluster_Mobilite\",\n",
    "                    \"CROZON_CoupureseRABPS4G\",\"CROZON_TDC4GPSCluster_Mobilite\",\"CROZON_TDC4GPS\",\"CQImoyen\",\"CROZON_TDC4GPS_Mobilite\",\n",
    "                    \"CROZON_TraficDataUL4G\",\"CROZON_TDC4GPSCluster\",\"ErabrelnormalQCI9\",\"ErabRelQCi5\",\"nbUEVoIPqualityOK\",\n",
    "                    \"Nbrtentatives_QCi5__TEAVoix\",\"Nbrtentatives_QCi5__TEAVisio\",\"Nbrtentatives_QCi1_\",\"NbreConn_Voix\",\"ErabrelnormalQCI5\",\n",
    "                    \"ErabVoixRelease_Cellule\",\"ErabrelnormalQCI8\",\"NbHOPrepAttIFLB\",\"ErabrelnormalQCI6\",\n",
    "                    \"NbreConn_Data\",\n",
    "                    \"TraficDataDL\",\"TraficDataUL\",\"Traficvoix_Traficvoix_visio\"]\n",
    "   \n",
    "    for kpi1 in column_kpiselection:\n",
    "        for kpi2 in column_kpiselection:\n",
    "            corrValues = []\n",
    "            for i in range(1,6):\n",
    "                corrValues.append(corrMatrix.loc[kpi2+' Lag'+str(i),kpi1+' Lag'+str(i)])\n",
    "                corrValues.append(corrMatrix.loc[kpi2+' AC'+str(i),kpi1+' AC'+str(i)])\n",
    "            corrValues.append(corrMatrix.loc[kpi2+' Mean',kpi1+' Mean'])\n",
    "            corrValues.append(corrMatrix.loc[kpi2+' Std',kpi1+' Std'])\n",
    "            corrValues.append(corrMatrix.loc[kpi2+' Max',kpi1+' Max'])\n",
    "            for i in range(0,6):\n",
    "                corrValues.append(corrMatrix.loc[kpi2+' Freq'+str(i),kpi1+' Freq'+str(i)])\n",
    "                corrValues.append(corrMatrix.loc[kpi2+' Power'+str(i),kpi1+' Power'+str(i)])\n",
    "            kpiSynthese.loc[kpi1,kpi2]= np.linalg.norm(corrValues)/5\n",
    "    return(kpiSynthese)"
   ]
  },
  {
   "cell_type": "markdown",
   "metadata": {},
   "source": [
    "A = [1,2,3,4]"
   ]
  },
  {
   "cell_type": "code",
   "execution_count": 10,
   "metadata": {},
   "outputs": [],
   "source": [
    "allcellkpis_SyntheseCorrelationMatrix = sytheseKpiCorrelation(allcellkpiFeaturesClean_CorrelationMatrix)"
   ]
  },
  {
   "cell_type": "code",
   "execution_count": 11,
   "metadata": {},
   "outputs": [],
   "source": [
    "writer = pd.ExcelWriter('allcellkpis_SyntheseCorrelationMatrix.xlsx')\n",
    "allcellkpis_SyntheseCorrelationMatrix.to_excel(writer)\n",
    "writer.save()"
   ]
  },
  {
   "cell_type": "code",
   "execution_count": 12,
   "metadata": {},
   "outputs": [],
   "source": [
    "ChatLesHallesCellsKpis_SyntheseCorrelationMatrix = sytheseKpiCorrelation(ChatLesHallesCellsKpiFeaturesClean_CorrelationMatrix.fillna(0))"
   ]
  },
  {
   "cell_type": "code",
   "execution_count": 13,
   "metadata": {},
   "outputs": [],
   "source": [
    "writer = pd.ExcelWriter('ChatLesHallesCellsKpis_SyntheseCorrelationMatrix.xlsx')\n",
    "ChatLesHallesCellsKpis_SyntheseCorrelationMatrix.to_excel(writer)\n",
    "writer.save()"
   ]
  },
  {
   "cell_type": "code",
   "execution_count": 14,
   "metadata": {},
   "outputs": [],
   "source": [
    "GareCellsKpis_SyntheseCorrelationMatrix = sytheseKpiCorrelation(GareCellsKpiFeaturesClean_CorrelationMatrix.fillna(0))"
   ]
  },
  {
   "cell_type": "code",
   "execution_count": 15,
   "metadata": {},
   "outputs": [],
   "source": [
    "writer = pd.ExcelWriter('GareCellsKpis_SyntheseCorrelationMatrix.xlsx')\n",
    "GareCellsKpis_SyntheseCorrelationMatrix.to_excel(writer)\n",
    "writer.save()"
   ]
  },
  {
   "cell_type": "code",
   "execution_count": 16,
   "metadata": {},
   "outputs": [],
   "source": [
    "ResCellsKpis_SyntheseCorrelationMatrix = sytheseKpiCorrelation(ResCellsKpiFeaturesClean_CorrelationMatrix.fillna(0))"
   ]
  },
  {
   "cell_type": "code",
   "execution_count": 17,
   "metadata": {},
   "outputs": [],
   "source": [
    "writer = pd.ExcelWriter('ResCellsKpis_SyntheseCorrelationMatrix.xlsx')\n",
    "ResCellsKpis_SyntheseCorrelationMatrix.to_excel(writer)\n",
    "writer.save()"
   ]
  },
  {
   "cell_type": "code",
   "execution_count": 19,
   "metadata": {},
   "outputs": [],
   "source": [
    "RiveDroiteCellsKpis_SyntheseCorrelationMatrix = sytheseKpiCorrelation(RiveDroiteCellsKpiFeaturesClean_CorrelationMatrix.fillna(0))"
   ]
  },
  {
   "cell_type": "code",
   "execution_count": 20,
   "metadata": {},
   "outputs": [],
   "source": [
    "writer = pd.ExcelWriter('RiveDroiteCellsKpis_SyntheseCorrelationMatrix.xlsx')\n",
    "RiveDroiteCellsKpis_SyntheseCorrelationMatrix.to_excel(writer)\n",
    "writer.save()"
   ]
  },
  {
   "cell_type": "code",
   "execution_count": 23,
   "metadata": {},
   "outputs": [],
   "source": [
    "ConcordeCellsKpis_SyntheseCorrelationMatrix = sytheseKpiCorrelation(ConcordeCellsKpiFeaturesClean_CorrelationMatrix.fillna(0))"
   ]
  },
  {
   "cell_type": "code",
   "execution_count": 24,
   "metadata": {},
   "outputs": [],
   "source": [
    "writer = pd.ExcelWriter('ConcordeCellsKpis_SyntheseCorrelationMatrix.xlsx')\n",
    "ConcordeCellsKpis_SyntheseCorrelationMatrix.to_excel(writer)\n",
    "writer.save()"
   ]
  },
  {
   "cell_type": "code",
   "execution_count": null,
   "metadata": {},
   "outputs": [],
   "source": []
  }
 ],
 "metadata": {
  "kernelspec": {
   "display_name": "Python 3",
   "language": "python",
   "name": "python3"
  },
  "language_info": {
   "codemirror_mode": {
    "name": "ipython",
    "version": 3
   },
   "file_extension": ".py",
   "mimetype": "text/x-python",
   "name": "python",
   "nbconvert_exporter": "python",
   "pygments_lexer": "ipython3",
   "version": "3.6.5"
  }
 },
 "nbformat": 4,
 "nbformat_minor": 2
}
